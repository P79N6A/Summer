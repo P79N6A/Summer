{
 "cells": [
  {
   "cell_type": "code",
   "execution_count": 1,
   "metadata": {},
   "outputs": [],
   "source": [
    "import matplotlib.pyplot as plt\n",
    "import random\n",
    "import time\n",
    "random.seed(time.time())"
   ]
  },
  {
   "cell_type": "code",
   "execution_count": 2,
   "metadata": {},
   "outputs": [
    {
     "data": {
      "text/plain": [
       "0.8998844895874489"
      ]
     },
     "execution_count": 2,
     "metadata": {},
     "output_type": "execute_result"
    }
   ],
   "source": [
    "def random_rate_loss(maximum=1):\n",
    "    return 1 - maximum * random.random()\n",
    "\n",
    "random_rate_loss(0.2)"
   ]
  },
  {
   "cell_type": "markdown",
   "metadata": {},
   "source": [
    "# Version 1 理想的指数平滑增长\n",
    "\n",
    "这个版本非常简单，只是简单的进行按月的多轮迭代。在每一轮迭代中，资产按照固定比例增长，消费也随之增长。\n",
    "\n",
    "所有的资产都假设购买了某一种理财产品，没有任何风险，并且可以随时取出。\n",
    "\n",
    "消费也是每年平滑增长，没有任何大笔的突然消费。\n",
    "\n",
    "收入稳定平滑增长，没有任何意外会导致损失。比如，永远不会失业。但是，收入也不会有任何的爆发性增长。\n",
    "\n",
    "结果如下。"
   ]
  },
  {
   "cell_type": "code",
   "execution_count": 10,
   "metadata": {},
   "outputs": [
    {
     "data": {
      "text/plain": [
       "[<matplotlib.lines.Line2D at 0x11d7952b0>]"
      ]
     },
     "execution_count": 10,
     "metadata": {},
     "output_type": "execute_result"
    },
    {
     "data": {
      "image/png": "[encoded data removed]",
      "text/plain": [
       "<Figure size 432x288 with 1 Axes>"
      ]
     },
     "metadata": {
      "needs_background": "light"
     },
     "output_type": "display_data"
    }
   ],
   "source": [
    "wage_month = 25000\n",
    "wage_inc_per_year = 0.25\n",
    "cost_inc_per_year = 0.20\n",
    "tax_rate = 0.2\n",
    "\n",
    "bonus = 3 * wage_month * random_rate_loss()\n",
    "\n",
    "cost_month = 8000\n",
    "\n",
    "interest_rate = 0.1 / 12\n",
    "\n",
    "total, year = 0, 2019\n",
    "\n",
    "year_mem, amount_mem = [], []\n",
    "\n",
    "while year < 2049:\n",
    "    month = 1\n",
    "    while month <= 12:\n",
    "        total *= (1 + interest_rate * random_rate_loss(0.8))\n",
    "        total -= cost_month  / random_rate_loss(0.5)\n",
    "        total += wage_month * (1 - tax_rate)\n",
    "        month += 1\n",
    "    total += bonus\n",
    "    \n",
    "    # print('In the end of %d, total amount is %.2f' % (year, total))\n",
    "    year_mem.append(year)\n",
    "    amount_mem.append(total)\n",
    "    \n",
    "    year += 1\n",
    "    wage_month *= (1+ wage_inc_per_year * random_rate_loss(0.6))\n",
    "    cost_month *= (1+ cost_inc_per_year * random_rate_loss(0.1))\n",
    "    \n",
    "plt.plot(year_mem, amount_mem)"
   ]
  },
  {
   "cell_type": "code",
   "execution_count": null,
   "metadata": {},
   "outputs": [],
   "source": [
    "class Profession(object):\n",
    "    \"\"\"\n",
    "    \"\"\"\n",
    "    def __init__(self):\n",
    "        pass\n",
    "    \n",
    "    @property\n",
    "    def basic_income():\n",
    "        \"\"\"\n",
    "        \"\"\"\n",
    "        return self._basic_income\n",
    "    \n",
    "    @basic_income.setter\n",
    "    def basic_income(income):\n",
    "        \"\"\"\n",
    "        \"\"\"\n",
    "        if income >= 0:\n",
    "            self._basic_income = income\n",
    "        else:\n",
    "            raise Exception(\"Error: Income couldn't be negative.\") \n",
    "            \n",
    "    @property\n",
    "    def inc_rate():\n",
    "        \"\"\"\n",
    "        \"\"\"\n",
    "        return self._inc_rate\n",
    "    \n",
    "    @inc_rate.setter\n",
    "    def inc_rate(rate):\n",
    "        \"\"\"\n",
    "        \"\"\"\n",
    "        self._inc_rate = rate\n",
    "        \n",
    "    \n",
    "    \n",
    "        \n",
    "    \n",
    "\n",
    "    \n",
    "    \n",
    "    def draw_chart():\n",
    "        \"\"\"\n",
    "        \"\"\"\n",
    "        pass\n",
    "    "
   ]
  },
  {
   "cell_type": "code",
   "execution_count": null,
   "metadata": {},
   "outputs": [],
   "source": []
  },
  {
   "cell_type": "code",
   "execution_count": null,
   "metadata": {},
   "outputs": [],
   "source": []
  },
  {
   "cell_type": "code",
   "execution_count": null,
   "metadata": {},
   "outputs": [],
   "source": []
  },
  {
   "cell_type": "code",
   "execution_count": null,
   "metadata": {},
   "outputs": [],
   "source": []
  },
  {
   "cell_type": "code",
   "execution_count": null,
   "metadata": {},
   "outputs": [],
   "source": []
  },
  {
   "cell_type": "code",
   "execution_count": null,
   "metadata": {},
   "outputs": [],
   "source": []
  },
  {
   "cell_type": "markdown",
   "metadata": {},
   "source": [
    "# Version 2 爆发性增长\n",
    "\n",
    "这个版本中，个人收入近似线形增长。但是，偶尔会出现一些随机因素，会导致大量的收入或者损失。\n",
    "\n",
    "收入和损失遵循了不同的概率分布。\n",
    "\n",
    "收入遵循伯努利分布。\n",
    "\n",
    "损失遵循均匀分布。\n",
    "\n",
    "通过参数对收入和损失设定倍率。\n"
   ]
  },
  {
   "cell_type": "code",
   "execution_count": 7,
   "metadata": {},
   "outputs": [
    {
     "data": {
      "text/plain": [
       "[<matplotlib.lines.Line2D at 0x11d59cd30>]"
      ]
     },
     "execution_count": 7,
     "metadata": {},
     "output_type": "execute_result"
    },
    {
     "data": {
      "image/png": "[encoded data removed]",
      "text/plain": [
       "<Figure size 432x288 with 1 Axes>"
      ]
     },
     "metadata": {
      "needs_background": "light"
     },
     "output_type": "display_data"
    }
   ],
   "source": [
    "wage_month = 25000\n",
    "wage_inc_per_year = 0.2\n",
    "cost_inc_per_year = 0.2\n",
    "tax_rate = 0.2\n",
    "\n",
    "bonus = 2.6 * wage_month\n",
    "\n",
    "cost_month = 7000\n",
    "\n",
    "interest_rate = 0.1 / 12\n",
    "\n",
    "total, year = 0, 2019\n",
    "\n",
    "year_mem, amount_mem = [], []\n",
    "\n",
    "while year < 2049:\n",
    "    month = 1\n",
    "    while month <= 12:\n",
    "        total *= (1 + interest_rate)\n",
    "        total -= cost_month\n",
    "        total += wage_month * (1 - tax_rate)\n",
    "        month += 1\n",
    "    total += bonus\n",
    "    \n",
    "    # print('In the end of %d, total amount is %.2f' % (year, total))\n",
    "    year_mem.append(year)\n",
    "    amount_mem.append(total)\n",
    "    \n",
    "    year += 1\n",
    "    wage_month *= (1+ wage_inc_per_year)\n",
    "    cost_month *= (1+ cost_inc_per_year)\n",
    "    \n",
    "plt.plot(year_mem, amount_mem)"
   ]
  },
  {
   "cell_type": "code",
   "execution_count": null,
   "metadata": {},
   "outputs": [],
   "source": []
  }
 ],
 "metadata": {
  "kernelspec": {
   "display_name": "Python 3",
   "language": "python",
   "name": "python3"
  },
  "language_info": {
   "codemirror_mode": {
    "name": "ipython",
    "version": 3
   },
   "file_extension": ".py",
   "mimetype": "text/x-python",
   "name": "python",
   "nbconvert_exporter": "python",
   "pygments_lexer": "ipython3",
   "version": "3.7.3"
  }
 },
 "nbformat": 4,
 "nbformat_minor": 2
}
