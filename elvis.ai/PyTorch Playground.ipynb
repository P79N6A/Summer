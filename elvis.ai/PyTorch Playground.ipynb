{
 "cells": [
  {
   "cell_type": "code",
   "execution_count": 1,
   "metadata": {},
   "outputs": [],
   "source": [
    "from __future__ import print_function\n",
    "import torch"
   ]
  },
  {
   "cell_type": "code",
   "execution_count": 2,
   "metadata": {},
   "outputs": [
    {
     "data": {
      "text/plain": [
       "tensor([[0.7798, 0.8254, 0.2296],\n",
       "        [0.2826, 0.0832, 0.9978],\n",
       "        [0.6331, 0.6986, 0.9205],\n",
       "        [0.1845, 0.4474, 0.5913],\n",
       "        [0.6891, 0.5189, 0.7397]])"
      ]
     },
     "execution_count": 2,
     "metadata": {},
     "output_type": "execute_result"
    }
   ],
   "source": [
    "torch.rand(5, 3)"
   ]
  },
  {
   "cell_type": "code",
   "execution_count": 3,
   "metadata": {},
   "outputs": [
    {
     "data": {
      "text/plain": [
       "False"
      ]
     },
     "execution_count": 3,
     "metadata": {},
     "output_type": "execute_result"
    }
   ],
   "source": [
    "torch.cuda.is_available()"
   ]
  },
  {
   "cell_type": "code",
   "execution_count": 4,
   "metadata": {},
   "outputs": [
    {
     "name": "stdout",
     "output_type": "stream",
     "text": [
      "[2. 2. 2. 2. 2.]\n",
      "tensor([2., 2., 2., 2., 2.], dtype=torch.float64)\n"
     ]
    }
   ],
   "source": [
    "import numpy as np\n",
    "\n",
    "a = np.ones(5)\n",
    "b = torch.from_numpy(a)\n",
    "np.add(a, 1, out=a)\n",
    "print(a)\n",
    "print(b)"
   ]
  },
  {
   "cell_type": "code",
   "execution_count": 5,
   "metadata": {},
   "outputs": [
    {
     "name": "stdout",
     "output_type": "stream",
     "text": [
      "tensor([[ 0.0000e+00,  2.0000e+00, -1.0473e+16],\n",
      "        [ 8.5920e+09,  8.3010e+20,  6.5645e-07],\n",
      "        [ 1.6987e-07,  2.6222e-09,  2.6657e-09],\n",
      "        [ 2.7302e-06,  1.0478e+21,  8.3193e+20],\n",
      "        [ 5.4069e+22,  1.6706e-07,  1.3662e-05]])\n"
     ]
    }
   ],
   "source": [
    "x = torch.empty(5, 3)\n",
    "print(x)"
   ]
  },
  {
   "cell_type": "code",
   "execution_count": 6,
   "metadata": {},
   "outputs": [
    {
     "name": "stdout",
     "output_type": "stream",
     "text": [
      "tensor([[0.7471, 0.6155, 0.4898],\n",
      "        [0.6697, 0.8597, 0.8715],\n",
      "        [0.5240, 0.9600, 0.1760],\n",
      "        [0.0960, 0.4061, 0.8458],\n",
      "        [0.6852, 0.0216, 0.6105]])\n"
     ]
    }
   ],
   "source": [
    "x = torch.rand(5, 3)\n",
    "print(x)"
   ]
  },
  {
   "cell_type": "code",
   "execution_count": 7,
   "metadata": {},
   "outputs": [
    {
     "name": "stdout",
     "output_type": "stream",
     "text": [
      "tensor([[0, 0, 0],\n",
      "        [0, 0, 0],\n",
      "        [0, 0, 0],\n",
      "        [0, 0, 0],\n",
      "        [0, 0, 0]])\n"
     ]
    }
   ],
   "source": [
    "x = torch.zeros(5, 3, dtype=torch.long)\n",
    "print(x)"
   ]
  },
  {
   "cell_type": "code",
   "execution_count": 8,
   "metadata": {},
   "outputs": [
    {
     "name": "stdout",
     "output_type": "stream",
     "text": [
      "tensor([5.5000, 3.0000])\n"
     ]
    }
   ],
   "source": [
    "y = torch.Tensor([5.5, 3])\n",
    "print(y)"
   ]
  },
  {
   "cell_type": "code",
   "execution_count": 9,
   "metadata": {},
   "outputs": [
    {
     "name": "stdout",
     "output_type": "stream",
     "text": [
      "Help on built-in function new_ones:\n",
      "\n",
      "new_ones(...) method of torch.Tensor instance\n",
      "    new_ones(size, dtype=None, device=None, requires_grad=False) -> Tensor\n",
      "    \n",
      "    Returns a Tensor of size :attr:`size` filled with ``1``.\n",
      "    By default, the returned Tensor has the same :class:`torch.dtype` and\n",
      "    :class:`torch.device` as this tensor.\n",
      "    \n",
      "    Args:\n",
      "        size (int...): a list, tuple, or :class:`torch.Size` of integers defining the\n",
      "            shape of the output tensor.\n",
      "        dtype (:class:`torch.dtype`, optional): the desired type of returned tensor.\n",
      "            Default: if None, same :class:`torch.dtype` as this tensor.\n",
      "        device (:class:`torch.device`, optional): the desired device of returned tensor.\n",
      "            Default: if None, same :class:`torch.device` as this tensor.\n",
      "        requires_grad (bool, optional): If autograd should record operations on the\n",
      "            returned tensor. Default: ``False``.\n",
      "    \n",
      "    Example::\n",
      "    \n",
      "        >>> tensor = torch.tensor((), dtype=torch.int32)\n",
      "        >>> tensor.new_ones((2, 3))\n",
      "        tensor([[ 1,  1,  1],\n",
      "                [ 1,  1,  1]], dtype=torch.int32)\n",
      "\n"
     ]
    }
   ],
   "source": [
    "help(y.new_ones)"
   ]
  },
  {
   "cell_type": "code",
   "execution_count": 10,
   "metadata": {},
   "outputs": [
    {
     "name": "stdout",
     "output_type": "stream",
     "text": [
      "tensor([[1., 1., 1.],\n",
      "        [1., 1., 1.]])\n",
      "tensor([[-1.4702, -1.1374, -0.0528],\n",
      "        [ 0.4071, -0.6169, -0.5122]])\n"
     ]
    }
   ],
   "source": [
    "y = y.new_ones(2, 3)\n",
    "print(y)\n",
    "\n",
    "y = torch.randn_like(y)\n",
    "print(y)"
   ]
  },
  {
   "cell_type": "code",
   "execution_count": 11,
   "metadata": {},
   "outputs": [
    {
     "name": "stdout",
     "output_type": "stream",
     "text": [
      "torch.Size([2, 3]) <class 'torch.Size'>\n"
     ]
    }
   ],
   "source": [
    "print(y.size(), type(y.size()))"
   ]
  },
  {
   "cell_type": "code",
   "execution_count": 12,
   "metadata": {},
   "outputs": [
    {
     "name": "stdout",
     "output_type": "stream",
     "text": [
      "tensor([[1.4580, 1.2961, 0.9369],\n",
      "        [0.7556, 1.1605, 1.0017],\n",
      "        [1.0055, 0.8776, 0.6962],\n",
      "        [1.2281, 0.6913, 1.5164],\n",
      "        [1.1936, 1.3845, 0.9791]])\n",
      "tensor([[1.4580, 1.2961, 0.9369],\n",
      "        [0.7556, 1.1605, 1.0017],\n",
      "        [1.0055, 0.8776, 0.6962],\n",
      "        [1.2281, 0.6913, 1.5164],\n",
      "        [1.1936, 1.3845, 0.9791]])\n",
      "tensor([[1.4580, 1.2961, 0.9369],\n",
      "        [0.7556, 1.1605, 1.0017],\n",
      "        [1.0055, 0.8776, 0.6962],\n",
      "        [1.2281, 0.6913, 1.5164],\n",
      "        [1.1936, 1.3845, 0.9791]])\n",
      "tensor([[1.4580, 1.2961, 0.9369],\n",
      "        [0.7556, 1.1605, 1.0017],\n",
      "        [1.0055, 0.8776, 0.6962],\n",
      "        [1.2281, 0.6913, 1.5164],\n",
      "        [1.1936, 1.3845, 0.9791]])\n",
      "tensor([[1.4580, 1.2961, 0.9369],\n",
      "        [0.7556, 1.1605, 1.0017],\n",
      "        [1.0055, 0.8776, 0.6962],\n",
      "        [1.2281, 0.6913, 1.5164],\n",
      "        [1.1936, 1.3845, 0.9791]])\n"
     ]
    }
   ],
   "source": [
    "a = torch.rand(5, 3)\n",
    "b = torch.rand(5, 3)\n",
    "print(a + b)\n",
    "print(torch.add(a, b))\n",
    "result = torch.zeros(5, 3)\n",
    "torch.add(a, b, out=result)\n",
    "print(result)\n",
    "print(a.add(b))\n",
    "a.add_(b)\n",
    "print(a)"
   ]
  },
  {
   "cell_type": "code",
   "execution_count": 13,
   "metadata": {},
   "outputs": [
    {
     "name": "stdout",
     "output_type": "stream",
     "text": [
      "tensor([[1.4580, 0.7556, 1.0055, 1.2281, 1.1936],\n",
      "        [1.2961, 1.1605, 0.8776, 0.6913, 1.3845],\n",
      "        [0.9369, 1.0017, 0.6962, 1.5164, 0.9791]])\n",
      "tensor([[1.4580, 0.7556, 1.0055, 1.2281, 1.1936],\n",
      "        [1.2961, 1.1605, 0.8776, 0.6913, 1.3845],\n",
      "        [0.9369, 1.0017, 0.6962, 1.5164, 0.9791]])\n"
     ]
    }
   ],
   "source": [
    "print(a.t())\n",
    "a.t_()\n",
    "print(a)"
   ]
  },
  {
   "cell_type": "code",
   "execution_count": 14,
   "metadata": {},
   "outputs": [
    {
     "name": "stdout",
     "output_type": "stream",
     "text": [
      "tensor([0.7556, 1.1605, 1.0017])\n"
     ]
    }
   ],
   "source": [
    "print(a[:, 1])"
   ]
  },
  {
   "cell_type": "code",
   "execution_count": 15,
   "metadata": {},
   "outputs": [
    {
     "name": "stdout",
     "output_type": "stream",
     "text": [
      "torch.Size([5, 3, 2])\n",
      "tensor([[[2.1894e-01, 5.3525e-01],\n",
      "         [8.6677e-04, 6.5730e-01],\n",
      "         [4.3887e-01, 8.1343e-01]],\n",
      "\n",
      "        [[2.5103e-01, 9.9317e-01],\n",
      "         [2.0912e-01, 9.5247e-01],\n",
      "         [7.8771e-01, 9.7262e-01]],\n",
      "\n",
      "        [[9.4948e-01, 8.3575e-02],\n",
      "         [2.5195e-01, 3.3660e-01],\n",
      "         [5.9188e-02, 9.9413e-01]],\n",
      "\n",
      "        [[1.7886e-01, 4.9601e-01],\n",
      "         [7.5714e-01, 8.0132e-01],\n",
      "         [8.6870e-01, 6.1628e-01]],\n",
      "\n",
      "        [[8.3832e-01, 4.4233e-01],\n",
      "         [5.6719e-01, 5.6240e-02],\n",
      "         [2.6860e-01, 8.8908e-01]]])\n"
     ]
    }
   ],
   "source": [
    "n = torch.rand(6, 5)\n",
    "z = n.view(-1, 3, 2)\n",
    "print(z.size())\n",
    "print(z)"
   ]
  },
  {
   "cell_type": "code",
   "execution_count": 16,
   "metadata": {},
   "outputs": [
    {
     "data": {
      "text/plain": [
       "1"
      ]
     },
     "execution_count": 16,
     "metadata": {},
     "output_type": "execute_result"
    }
   ],
   "source": [
    "torch.tensor([1]).item()"
   ]
  },
  {
   "cell_type": "code",
   "execution_count": 17,
   "metadata": {},
   "outputs": [
    {
     "name": "stdout",
     "output_type": "stream",
     "text": [
      "tensor([1., 1., 1., 1., 1., 1., 1., 1., 1., 1.])\n",
      "[2. 2. 2. 2. 2. 2. 2. 2. 2. 2.]\n",
      "tensor([2., 2., 2., 2., 2., 2., 2., 2., 2., 2.])\n"
     ]
    }
   ],
   "source": [
    "var = torch.ones(10)\n",
    "print(var)\n",
    "var_np = var.numpy()\n",
    "var.add_(1)\n",
    "print(var_np)\n",
    "var_v = torch.from_numpy(var_np)\n",
    "print(var_v)"
   ]
  },
  {
   "cell_type": "code",
   "execution_count": 18,
   "metadata": {},
   "outputs": [],
   "source": [
    "# let us run this cell only if CUDA is available\n",
    "# We will use ``torch.device`` objects to move tensors in and out of GPU\n",
    "if torch.cuda.is_available():\n",
    "    device = torch.device(\"cuda\")          # a CUDA device object\n",
    "    y = torch.ones_like(x, device=device)  # directly create a tensor on GPU\n",
    "    x = x.to(device)                       # or just use strings ``.to(\"cuda\")``\n",
    "    z = x + y\n",
    "    print(z)\n",
    "    print(z.to(\"cpu\", torch.double))       # ``.to`` can also change dtype together!"
   ]
  },
  {
   "cell_type": "code",
   "execution_count": 19,
   "metadata": {},
   "outputs": [],
   "source": [
    "from torch import autograd"
   ]
  },
  {
   "cell_type": "code",
   "execution_count": 26,
   "metadata": {},
   "outputs": [
    {
     "name": "stdout",
     "output_type": "stream",
     "text": [
      "None\n",
      "tensor([[2.7767, 2.9418, 2.2108, 2.0291],\n",
      "        [2.5506, 2.2312, 2.9159, 2.9253],\n",
      "        [2.6722, 2.2005, 2.4090, 2.1929],\n",
      "        [2.6374, 2.0301, 2.4046, 2.1152]], grad_fn=<AddBackward0>)\n",
      "<AddBackward0 object at 0x11938a278>\n",
      "tensor(2.4527, grad_fn=<MeanBackward1>)\n",
      "tensor([[0.0625, 0.0625, 0.0625, 0.0625],\n",
      "        [0.0625, 0.0625, 0.0625, 0.0625],\n",
      "        [0.0625, 0.0625, 0.0625, 0.0625],\n",
      "        [0.0625, 0.0625, 0.0625, 0.0625]])\n"
     ]
    }
   ],
   "source": [
    "x = torch.rand(4, 4, requires_grad=True)\n",
    "print(x.grad_fn)\n",
    "y = x + 2\n",
    "print(y)\n",
    "print(y.grad_fn)\n",
    "z = y.mean()\n",
    "print(z)\n",
    "z.backward()\n",
    "print(x.grad)"
   ]
  },
  {
   "cell_type": "code",
   "execution_count": 25,
   "metadata": {},
   "outputs": [
    {
     "data": {
      "text/plain": [
       "tensor([2, 2])"
      ]
     },
     "execution_count": 25,
     "metadata": {},
     "output_type": "execute_result"
    }
   ],
   "source": [
    "torch.tensor()"
   ]
  },
  {
   "cell_type": "code",
   "execution_count": 40,
   "metadata": {},
   "outputs": [
    {
     "name": "stdout",
     "output_type": "stream",
     "text": [
      "tensor([ 566.9905, 2328.5261, -503.1274], grad_fn=<MulBackward0>)\n",
      "tensor([1024., 1024., 1024.])\n"
     ]
    }
   ],
   "source": [
    "x = torch.randn(3, requires_grad=True)\n",
    "y = x * 2\n",
    "while  y.data.norm() < 2000:\n",
    "    y = y * 2\n",
    "print(y)\n",
    "v = torch.tensor([1, 1, 1], dtype=torch.float)\n",
    "y.backward(v)\n",
    "print(x.grad)"
   ]
  },
  {
   "cell_type": "code",
   "execution_count": 46,
   "metadata": {},
   "outputs": [
    {
     "name": "stdout",
     "output_type": "stream",
     "text": [
      "tensor([-0.0972,  0.9189, -1.5379])\n",
      "tensor([[-0.0972,  0.9189, -1.5379]])\n"
     ]
    }
   ],
   "source": [
    "x = torch.randn(3)\n",
    "print(x)\n",
    "x = x.unsqueeze(0)\n",
    "print(x)"
   ]
  },
  {
   "cell_type": "code",
   "execution_count": 62,
   "metadata": {},
   "outputs": [
    {
     "name": "stdout",
     "output_type": "stream",
     "text": [
      "tensor([0, 1, 0, 1, 0, 1, 0, 1, 0, 1])\n",
      "tensor([0, 1, 0, 0, 0, 1, 0, 1, 0, 1])\n",
      "9\n"
     ]
    }
   ],
   "source": [
    "m = torch.randint(2, (10,))\n",
    "print(m)\n",
    "n = torch.randint(2, (10,))\n",
    "print(n)\n",
    "print((m == n).sum().item())"
   ]
  },
  {
   "cell_type": "code",
   "execution_count": 41,
   "metadata": {},
   "outputs": [],
   "source": [
    "from torch import nn\n",
    "from torch.nn import functional as F"
   ]
  },
  {
   "cell_type": "code",
   "execution_count": null,
   "metadata": {},
   "outputs": [],
   "source": [
    "class Encoder(nn.Module):\n",
    "    def __init__(self):\n",
    "        self.gru = nn.GRU(256, 256,  4)\n",
    "        self.attn = nn.\n",
    "        \n",
    "    \n",
    "    def forward(self, x):\n",
    "        x = nn.ReLU(self.gru(x)) "
   ]
  }
 ],
 "metadata": {
  "kernelspec": {
   "display_name": "Python 3",
   "language": "python",
   "name": "python3"
  },
  "language_info": {
   "codemirror_mode": {
    "name": "ipython",
    "version": 3
   },
   "file_extension": ".py",
   "mimetype": "text/x-python",
   "name": "python",
   "nbconvert_exporter": "python",
   "pygments_lexer": "ipython3",
   "version": "3.7.1"
  }
 },
 "nbformat": 4,
 "nbformat_minor": 2
}
