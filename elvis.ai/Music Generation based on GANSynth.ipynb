{
 "cells": [
  {
   "cell_type": "markdown",
   "metadata": {},
   "source": [
    "# progressive GAN + STFT的音乐生成调研&实验\n",
    "\n",
    "## 实验环境\n",
    "\n",
    "| Package | Version |\n",
    "|:-------:|:------:|\n",
    "|PyTorch|1.0.1.post2|\n",
    "\n",
    "## 相关信息\n",
    "1. [GANSynth: Making music with GANs](https://magenta.tensorflow.org/gansynth)\n",
    "2. [项目wiki](http://wiki.baidu.com/display/kgb/Music+Generation)\n",
    "3. [实验进展](http://newicafe.baidu.com/discussion/space/kg-eval-compet?click=true&discussId=15149&discussViewType=DISCUSS_VIEW_TYPE_TITLE&mode=MODE_SHOW)\n",
    "4. [GANSynth官网](https://storage.googleapis.com/magentadata/papers/gansynth/index.html)\n",
    "5. [Demo预览](http://yq01-kg-agc-test1.yq01.baidu.com:8196)\n",
    "6. [开眼丨人工智能自动作曲，创作一首歌只要30秒](https://mp.weixin.qq.com/s/L6oq3KsM3EwcUcIpeHDuwA)\n",
    "7. [脑控加人工智能自动谱曲 你见过耳机这么玩的吗？](https://mp.weixin.qq.com/s/vW0SxEw_TaCZoaC8HltLyw)\n",
    "8. [综述 : Neural Nets for Generating Music](https://medium.com/artists-and-machine-intelligence/neural-nets-for-generating-music-f46dffac21c0)\n",
    "9. [Generating Music With Artificial Intelligence](https://towardsdatascience.com/generating-music-with-artificial-intelligence-9ce3c9eef806)\n",
    "10. [基于统计学的自动作曲](https://mp.weixin.qq.com/s/0HvvHOrme1GVNGkeFxZjCg)\n",
    "11. [10行Python，搭建一个可以自动作曲的神经网络](https://mp.weixin.qq.com/s/h0C5PkW6nYwFbNrOv4JhSA) : [代码](https://github.com/llSourcell/AI_Composer)\n"
   ]
  },
  {
   "cell_type": "markdown",
   "metadata": {},
   "source": [
    "## Import Here"
   ]
  },
  {
   "cell_type": "code",
   "execution_count": 7,
   "metadata": {},
   "outputs": [],
   "source": [
    "import torch\n",
    "from torch import nn, functional, optim, autograd, cuda, layer_norm\n",
    "from torchvision import transforms, utils\n",
    "import seaborn as sns\n",
    "\n",
    "%matplotlib inline"
   ]
  },
  {
   "cell_type": "markdown",
   "metadata": {},
   "source": [
    "## STFT变换\n",
    "将声音变换到频域并采样，生成原始的频谱。"
   ]
  },
  {
   "cell_type": "code",
   "execution_count": null,
   "metadata": {},
   "outputs": [],
   "source": [
    "def audio2stft(input):\n",
    "    \"\"\"输入的音乐格式转STFT频谱\"\"\"\n",
    "    pass"
   ]
  },
  {
   "cell_type": "markdown",
   "metadata": {},
   "source": [
    "## 梅尔变换\n",
    "使听觉效果和频率呈近似线性。"
   ]
  },
  {
   "cell_type": "code",
   "execution_count": 5,
   "metadata": {},
   "outputs": [],
   "source": [
    "def mel_trans(input):\n",
    "    \"\"\"STFT频谱转mel频谱\"\"\"\n",
    "    pass"
   ]
  },
  {
   "cell_type": "markdown",
   "metadata": {},
   "source": [
    "## 预处理"
   ]
  },
  {
   "cell_type": "code",
   "execution_count": null,
   "metadata": {},
   "outputs": [],
   "source": []
  },
  {
   "cell_type": "markdown",
   "metadata": {},
   "source": [
    "## 模型"
   ]
  },
  {
   "cell_type": "code",
   "execution_count": null,
   "metadata": {},
   "outputs": [],
   "source": []
  },
  {
   "cell_type": "markdown",
   "metadata": {},
   "source": [
    "## 训练"
   ]
  },
  {
   "cell_type": "code",
   "execution_count": null,
   "metadata": {},
   "outputs": [],
   "source": []
  },
  {
   "cell_type": "markdown",
   "metadata": {},
   "source": [
    "## 合成"
   ]
  },
  {
   "cell_type": "code",
   "execution_count": null,
   "metadata": {},
   "outputs": [],
   "source": []
  }
 ],
 "metadata": {
  "kernelspec": {
   "display_name": "Python 3",
   "language": "python",
   "name": "python3"
  },
  "language_info": {
   "codemirror_mode": {
    "name": "ipython",
    "version": 3
   },
   "file_extension": ".py",
   "mimetype": "text/x-python",
   "name": "python",
   "nbconvert_exporter": "python",
   "pygments_lexer": "ipython3",
   "version": "3.7.3"
  }
 },
 "nbformat": 4,
 "nbformat_minor": 2
}
