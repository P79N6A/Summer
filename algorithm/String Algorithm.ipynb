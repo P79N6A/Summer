{
 "cells": [
  {
   "cell_type": "code",
   "execution_count": null,
   "metadata": {},
   "outputs": [],
   "source": [
    "# KMP Algorithm\n",
    "def build_next(p):\n",
    "    \"\"\"\n",
    "    \"\"\"\n",
    "    return []\n",
    "\n",
    "\n",
    "def kmp_index(t, p):\n",
    "    \"\"\"\n",
    "    \"\"\"\n",
    "    return 0\n",
    "\n",
    "\n",
    "if __name__ == '__main__':\n",
    "    target = ''\n",
    "    pattern = ''\n",
    "    print 'Index of', pattern, 'in', target, 'is ', kmp_index(target, pattern), '.'"
   ]
  }
 ],
 "metadata": {
  "kernelspec": {
   "display_name": "Python 3",
   "language": "python",
   "name": "python3"
  },
  "language_info": {
   "codemirror_mode": {
    "name": "ipython",
    "version": 3
   },
   "file_extension": ".py",
   "mimetype": "text/x-python",
   "name": "python",
   "nbconvert_exporter": "python",
   "pygments_lexer": "ipython3",
   "version": "3.7.2"
  }
 },
 "nbformat": 4,
 "nbformat_minor": 2
}
